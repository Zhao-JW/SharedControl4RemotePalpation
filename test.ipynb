{
 "cells": [
  {
   "cell_type": "code",
   "execution_count": 14,
   "metadata": {},
   "outputs": [
    {
     "name": "stdout",
     "output_type": "stream",
     "text": [
      "Load a RGBD data\n"
     ]
    }
   ],
   "source": [
    "import numpy as np\n",
    "import matplotlib.pyplot as plt\n",
    "import cv2\n",
    "from SHAREDCONTROL import SHAREDCONTROl\n",
    "\n",
    "points = np.load(\"data/phantom2_points.npy\")\n",
    "a = SHAREDCONTROl()\n",
    "a.genMap(\"phantom2\")\n",
    "%matplotlib tk"
   ]
  },
  {
   "cell_type": "code",
   "execution_count": 21,
   "metadata": {},
   "outputs": [
    {
     "name": "stdout",
     "output_type": "stream",
     "text": [
      "current pose:  [-0.56, -0.09, 0.046, 0.181, 3.162, 0.056] target pose: [-0.55, -0.09, 0.046, 0.0, 3.141592653589793, 0.0]\n"
     ]
    }
   ],
   "source": [
    "control_input = [-0.56, -0.09, 0.046, 0.181, 3.162, 0.056]\n",
    "keys = \"+X\"\n",
    "vel = [0.01, 0.01, 0.01]\n",
    "a.genControl(control_input, keys, vel)\n",
    "\n",
    "# xx = np.linspace(-0.6, -0.2)\n",
    "# yy = np.linspace(-0.3, 0.1)\n",
    "xx = np.linspace(-0.55, -0.2)\n",
    "yy = np.linspace(-0.2, 0.2)\n",
    "n = xx.size\n",
    "xx_grid, yy_grid = np.meshgrid(xx, yy)\n",
    "pose = np.zeros((2500, 3))\n",
    "for i in range(n**2):\n",
    "    pose1 = np.array(a.getControl([xx_grid.ravel()[i], yy_grid.ravel()[i], 10], control_input)[3:])\n",
    "    # pose1 = a.nomral2pose(np.array([fxx[i], fyy[i],fzz[i]]))\n",
    "    start_pos = np.array([0,0,1])\n",
    "    R,_ = cv2.Rodrigues(pose1)\n",
    "    pos_new = np.matmul(start_pos, R)\n",
    "    pose[i,:] = pos_new\n",
    "fig = plt.figure()\n",
    "ax = fig.add_subplot(111, projection='3d')\n",
    "ax.plot_surface(xx_grid, yy_grid, -pose[:,2].reshape(n,n))#, cmap='viridis', cstride=1, rstride=1)\n",
    "plt.show()"
   ]
  },
  {
   "cell_type": "code",
   "execution_count": 38,
   "metadata": {},
   "outputs": [],
   "source": [
    "xx = np.linspace(-0.55, -0.2)\n",
    "yy = np.linspace(-0.2, 0.15)\n",
    "n = xx.size\n",
    "xx = np.concatenate((np.concatenate(([-0.6, -0.56], xx)),[-0.21,-0.15]))\n",
    "yy = np.concatenate((np.concatenate(([-0.25, -0.21], yy)),[0.16,0.20]))\n",
    "xx_grid, yy_grid = np.meshgrid(xx, yy)\n",
    "zz = np.pad(a.fza.reshape((n,n)),((2,2),(2,2)),mode='constant', constant_values=-0.10)\n",
    "\n",
    "fig = plt.figure()\n",
    "ax = fig.add_subplot(111, projection='3d')\n",
    "ax.plot_surface(xx_grid, yy_grid, zz, cmap='viridis', cstride=1, rstride=1, alpha=1)\n",
    "ax.set_xlim([-0.7,-0])\n",
    "ax.set_ylim([-0.3,0.3])\n",
    "ax.set_zlim([-0.1,0.2])\n",
    "ax.grid(False)\n",
    "plt.show()"
   ]
  },
  {
   "cell_type": "code",
   "execution_count": null,
   "metadata": {},
   "outputs": [],
   "source": []
  }
 ],
 "metadata": {
  "interpreter": {
   "hash": "b89b5cfaba6639976dc87ff2fec6d58faec662063367e2c229c520fe71072417"
  },
  "kernelspec": {
   "display_name": "Python 3.10.0 64-bit",
   "language": "python",
   "name": "python3"
  },
  "language_info": {
   "codemirror_mode": {
    "name": "ipython",
    "version": 3
   },
   "file_extension": ".py",
   "mimetype": "text/x-python",
   "name": "python",
   "nbconvert_exporter": "python",
   "pygments_lexer": "ipython3",
   "version": "3.10.0"
  },
  "orig_nbformat": 4
 },
 "nbformat": 4,
 "nbformat_minor": 2
}
