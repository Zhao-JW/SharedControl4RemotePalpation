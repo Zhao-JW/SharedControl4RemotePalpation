{
 "cells": [
  {
   "cell_type": "code",
   "execution_count": 1,
   "id": "4af360d4",
   "metadata": {},
   "outputs": [],
   "source": [
    "import numpy as np\n",
    "import matplotlib.pyplot as plt"
   ]
  },
  {
   "cell_type": "code",
   "execution_count": 2,
   "id": "4cc6e031",
   "metadata": {
    "scrolled": true
   },
   "outputs": [
    {
     "data": {
      "text/plain": [
       "[<matplotlib.axis.YTick at 0x11dc8b820>,\n",
       " <matplotlib.axis.YTick at 0x11dc8b0a0>]"
      ]
     },
     "execution_count": 2,
     "metadata": {},
     "output_type": "execute_result"
    },
    {
     "data": {
      "image/png": "[encoded data removed]",
      "text/plain": [
       "<Figure size 432x288 with 1 Axes>"
      ]
     },
     "metadata": {
      "needs_background": "light"
     },
     "output_type": "display_data"
    }
   ],
   "source": [
    "#some color I use for the plot\n",
    "c_green = ['#dfebbc','#bcd676','#809d2f','#525f30']\n",
    "c_red = ['#ffc0ad','#ff430a','#a82700','#661800']\n",
    "c_blue = ['#daecfb','#8ec4f1','#1b8ae4','#1266ab','#0e4571','#04192a']\n",
    "\n",
    "t = np.arange(0,2,0.01)\n",
    "y = np.sin(t*2*np.pi)\n",
    "fig,ax = plt.subplots(1)\n",
    "ax.plot(t,t,color =c_blue[0])\n",
    "ax.plot(t,1.5*t,color =c_blue[1])\n",
    "ax.plot(t,2*t,color =c_blue[2])\n",
    "ax.plot(t,2.5*t,color =c_blue[3])\n",
    "ax.plot(t,3*t,color =c_blue[4])\n",
    "ax.plot(t,3.5*t,color =c_blue[5])\n",
    "ax.set_xlabel('t',labelpad=-10) #labelpad=-10: move label upward\n",
    "ax.set_ylabel('y',labelpad=-10) #labelpad=-10: move label to the right\n",
    "ax.set_box_aspect(1) #set the shape of plot to a square\n",
    "ax.spines['top'].set_visible(False)\n",
    "ax.spines['right'].set_visible(False)\n",
    "ax.set_xticks([0,2])\n",
    "ax.set_yticks([0,7])"
   ]
  },
  {
   "cell_type": "code",
   "execution_count": null,
   "id": "92a0ce6b",
   "metadata": {},
   "outputs": [],
   "source": []
  }
 ],
 "metadata": {
  "kernelspec": {
   "display_name": "Python 3 (ipykernel)",
   "language": "python",
   "name": "python3"
  },
  "language_info": {
   "codemirror_mode": {
    "name": "ipython",
    "version": 3
   },
   "file_extension": ".py",
   "mimetype": "text/x-python",
   "name": "python",
   "nbconvert_exporter": "python",
   "pygments_lexer": "ipython3",
   "version": "3.9.12"
  },
  "vscode": {
   "interpreter": {
    "hash": "40d3a090f54c6569ab1632332b64b2c03c39dcf918b08424e98f38b5ae0af88f"
   }
  }
 },
 "nbformat": 4,
 "nbformat_minor": 5
}
